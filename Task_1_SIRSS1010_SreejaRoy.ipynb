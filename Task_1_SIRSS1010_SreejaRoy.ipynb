{
 "cells": [
  {
   "cell_type": "code",
   "execution_count": 38,
   "id": "430766c1",
   "metadata": {},
   "outputs": [
    {
     "name": "stdout",
     "output_type": "stream",
     "text": [
      "1 \n",
      "1 1 \n",
      "1 2 1 \n",
      "1 3 3 1 \n",
      "1 4 6 4 1 \n",
      "1 5 10 10 5 1 \n",
      "1 6 15 20 15 6 1 \n"
     ]
    }
   ],
   "source": [
    "n=7\n",
    "list1=[]\n",
    "for row in range(n):\n",
    "    list2=[]\n",
    "    for column in range(row+1):\n",
    "        if column==0 or column==row:\n",
    "            list2.append(1)\n",
    "        else:\n",
    "            list2.append(list1[row-1][column]+list1[row-1][column-1])\n",
    "    list1.append(list2)\n",
    "for i in list1:\n",
    "    for j in i:\n",
    "        print(j,end=\" \")\n",
    "    print()"
   ]
  },
  {
   "cell_type": "code",
   "execution_count": 33,
   "id": "85fe458b",
   "metadata": {},
   "outputs": [
    {
     "name": "stdout",
     "output_type": "stream",
     "text": [
      "5 5 5 5 5 \n",
      "5 5 5 5 \n",
      "5 5 5 \n",
      "5 5 \n",
      "5 \n"
     ]
    }
   ],
   "source": [
    "for i in range(5,0,-1):\n",
    "  for j in range(i,0,-1):\n",
    "    print(\"5\",end = \" \")\n",
    "  print() \n"
   ]
  },
  {
   "cell_type": "code",
   "execution_count": 34,
   "id": "eb80a3d3",
   "metadata": {},
   "outputs": [
    {
     "name": "stdout",
     "output_type": "stream",
     "text": [
      "0 1 2 3 4 5 6 \n",
      "0 1 2 3 4 5 \n",
      "0 1 2 3 4 \n",
      "0 1 2 3 \n",
      "0 1 2 \n",
      "0 1 \n"
     ]
    }
   ],
   "source": [
    "for i in range(6,0,-1):\n",
    "  for j in range(i+1):\n",
    "    print(j,end = \" \")\n",
    "  print()"
   ]
  },
  {
   "cell_type": "code",
   "execution_count": 7,
   "id": "c3127a99",
   "metadata": {},
   "outputs": [
    {
     "name": "stdout",
     "output_type": "stream",
     "text": [
      "1 \n",
      "3 3 \n",
      "5 5 5 \n",
      "7 7 7 7 \n",
      "9 9 9 9 9 \n"
     ]
    }
   ],
   "source": [
    "for i in range(5):\n",
    "  for j in range(i+1):\n",
    "    print(2*i+1,end = \" \")\n",
    "  print() "
   ]
  },
  {
   "cell_type": "code",
   "execution_count": 8,
   "id": "9bb8cc74",
   "metadata": {},
   "outputs": [
    {
     "name": "stdout",
     "output_type": "stream",
     "text": [
      "1 \n",
      "2 1 \n",
      "3 2 1 \n",
      "4 3 2 1 \n",
      "5 4 3 2 1 \n"
     ]
    }
   ],
   "source": [
    "for i in range(5):\n",
    "  for j in range(i+1,0,-1):\n",
    "    print(j,end =\" \")\n",
    "  print()"
   ]
  },
  {
   "cell_type": "code",
   "execution_count": 9,
   "id": "de248675",
   "metadata": {},
   "outputs": [
    {
     "name": "stdout",
     "output_type": "stream",
     "text": [
      "1\n",
      "11\n",
      "121\n",
      "1331\n",
      "14641\n",
      "161051\n",
      "1771561\n",
      "19487171\n"
     ]
    }
   ],
   "source": [
    "for i in range(8):\n",
    "    print(11**(i))"
   ]
  },
  {
   "cell_type": "code",
   "execution_count": 10,
   "id": "74588354",
   "metadata": {},
   "outputs": [
    {
     "name": "stdout",
     "output_type": "stream",
     "text": [
      "1 2 3 4 5 \n",
      "2 2 3 4 5 \n",
      "3 3 3 4 5 \n",
      "4 4 4 4 5 \n",
      "5 5 5 5 5 \n"
     ]
    }
   ],
   "source": [
    "for i in range(1,6):\n",
    "  for j in range(1,6):\n",
    "    if i >= j:\n",
    "      print(i,end = \" \")\n",
    "    else:  \n",
    "      print(j, end = \" \")\n",
    "  print() "
   ]
  },
  {
   "cell_type": "code",
   "execution_count": 11,
   "id": "eb9de199",
   "metadata": {},
   "outputs": [
    {
     "name": "stdout",
     "output_type": "stream",
     "text": [
      "1 \n",
      "2 4 \n",
      "3 6 9 \n",
      "4 8 12 16 \n",
      "5 10 15 20 25 \n",
      "6 12 18 24 30 36 \n",
      "7 14 21 28 35 42 49 \n",
      "8 16 24 32 40 48 56 64 \n"
     ]
    }
   ],
   "source": [
    "for i in range(1,9):\n",
    "  for k in range(1,i+1):\n",
    "    print(i*k,end = \" \")\n",
    "  print() "
   ]
  },
  {
   "cell_type": "code",
   "execution_count": 12,
   "id": "1776f9dc",
   "metadata": {},
   "outputs": [
    {
     "name": "stdout",
     "output_type": "stream",
     "text": [
      "7\n",
      "* * * * * * * \n",
      " * * * * * * \n",
      "  * * * * * \n",
      "   * * * * \n",
      "    * * * \n",
      "     * * \n",
      "      * \n"
     ]
    }
   ],
   "source": [
    "n= int(input())\n",
    "for i in range(n,0,-1):\n",
    "  for j in range(n-i):\n",
    "    print(\" \",end =\"\")\n",
    "  for k in range(i,0,-1):\n",
    "    print(\"*\",end = \" \")\n",
    "  print()  "
   ]
  },
  {
   "cell_type": "code",
   "execution_count": 27,
   "id": "5efa4446",
   "metadata": {},
   "outputs": [
    {
     "name": "stdout",
     "output_type": "stream",
     "text": [
      "            *   \n",
      "           *  *   \n",
      "          *  *  *   \n",
      "         *  *  *  *   \n",
      "        *  *  *  *  *   \n",
      "       *  *  *  *  *  *   \n",
      "      *  *  *  *  *  *  *   \n"
     ]
    }
   ],
   "source": [
    "n = 7\n",
    "m = (2 * n) - 2\n",
    "for i in range(0, n):\n",
    "    for j in range(0, m):\n",
    "        print(end=\" \")\n",
    "    m = m - 1\n",
    "    for j in range(0, i + 1):\n",
    "        print(\"* \", end=' ')\n",
    "    print(\" \")"
   ]
  },
  {
   "cell_type": "code",
   "execution_count": 28,
   "id": "324eb911",
   "metadata": {},
   "outputs": [
    {
     "name": "stdout",
     "output_type": "stream",
     "text": [
      "* \n",
      "* * \n",
      "* * * \n",
      "* * * * \n",
      "* * * * * \n",
      "\n",
      "* * * * * \n",
      "* * * * \n",
      "* * * \n",
      "* * \n",
      "* \n"
     ]
    }
   ],
   "source": [
    "for i in range(5):\n",
    "    for j in range(1,i+2):\n",
    "        print(\"*\",end=\" \")\n",
    "    print()\n",
    "print()\n",
    "for i in range(5,0,-1):\n",
    "    for k in range(i,0,-1):\n",
    "        print(\"*\",end=\" \")\n",
    "    print()"
   ]
  },
  {
   "cell_type": "code",
   "execution_count": 29,
   "id": "24c0a18a",
   "metadata": {},
   "outputs": [
    {
     "name": "stdout",
     "output_type": "stream",
     "text": [
      "* \n",
      "* * \n",
      "* * * \n",
      "* * * * \n",
      "* * * * * \n",
      "* * * * * \n",
      "* * * * \n",
      "* * * \n",
      "* * \n",
      "* \n"
     ]
    }
   ],
   "source": [
    "for i in range(5):\n",
    "    for j in range(1,i+2):\n",
    "        print(\"*\",end=\" \")\n",
    "    print()\n",
    "for i in range(5,0,-1):\n",
    "    for j in range(i,0,-1):\n",
    "        print(\"*\",end=\" \")\n",
    "    print() "
   ]
  },
  {
   "cell_type": "code",
   "execution_count": 16,
   "id": "f450336b",
   "metadata": {},
   "outputs": [
    {
     "name": "stdout",
     "output_type": "stream",
     "text": [
      "7\n",
      "       *\n",
      "      **\n",
      "     ***\n",
      "    ****\n",
      "   *****\n",
      "  ******\n",
      " *******\n",
      "********\n",
      " *******\n",
      "  ******\n",
      "   *****\n",
      "    ****\n",
      "     ***\n",
      "      **\n",
      "       *\n"
     ]
    }
   ],
   "source": [
    "n = int(input())\n",
    "for i in range(n+1):\n",
    "  for j in range(n-i,0,-1):\n",
    "    print(\" \",end= \"\")\n",
    "  for k in range(i+1):\n",
    "    print(\"*\",end= \"\")  \n",
    "  print()  \n",
    "for i in range(n,0,-1):\n",
    "  for j in range(n-i+1):\n",
    "    print(\" \",end= \"\")\n",
    "  for k in range(i,0,-1):\n",
    "    print(\"*\",end= \"\")\n",
    "  print()"
   ]
  },
  {
   "cell_type": "code",
   "execution_count": 17,
   "id": "45a11f6f",
   "metadata": {},
   "outputs": [
    {
     "name": "stdout",
     "output_type": "stream",
     "text": [
      "6\n",
      " * * * * * * \n",
      "  * * * * * \n",
      "   * * * * \n",
      "    * * * \n",
      "     * * \n",
      "      * \n",
      "      * \n",
      "     * * \n",
      "    * * * \n",
      "   * * * * \n",
      "  * * * * * \n",
      " * * * * * * \n"
     ]
    }
   ],
   "source": [
    "n = int(input())\n",
    "for i in range(n,0,-1):\n",
    "  for j in range(n-i+1):\n",
    "    print(\" \",end= \"\")\n",
    "  for k in range(i,0,-1):\n",
    "    print(\"*\",end= \" \")\n",
    "  print()  \n",
    "for i in range(1,n+1):\n",
    "  for j in range(n-i+1):\n",
    "    print(\" \",end =\"\")\n",
    "  for k in range(1,i+1):\n",
    "    print(\"*\",end= \" \")\n",
    "  print()"
   ]
  },
  {
   "cell_type": "code",
   "execution_count": 18,
   "id": "c8da182a",
   "metadata": {},
   "outputs": [
    {
     "name": "stdout",
     "output_type": "stream",
     "text": [
      "6\n",
      "**************\n",
      "******__******\n",
      "*****____*****\n",
      "****______****\n",
      "***________***\n",
      "**__________**\n",
      "*____________*\n"
     ]
    }
   ],
   "source": [
    "n = int(input())\n",
    "for z in range(2*n+2):\n",
    "  print(\"*\",end =\"\")\n",
    "print()  \n",
    "for i in range(n,0,-1):\n",
    "  for j in range(i,0,-1):\n",
    "    print(\"*\",end= \"\")\n",
    "  for k in range(n-i+1):\n",
    "    print(\"_\",end = \"_\")  \n",
    "  for x in range(i,0,-1):\n",
    "    print(\"*\",end = \"\")\n",
    "  print() "
   ]
  },
  {
   "cell_type": "code",
   "execution_count": 22,
   "id": "c815c179",
   "metadata": {},
   "outputs": [
    {
     "name": "stdout",
     "output_type": "stream",
     "text": [
      "5\n",
      "1 \n",
      "3 2 \n",
      "6 5 4 \n",
      "10 9 8 7 \n",
      "15 14 13 12 11 \n"
     ]
    }
   ],
   "source": [
    "n=int(input())\n",
    "k=0\n",
    "for i in range(1,n+1):\n",
    "    k+=i\n",
    "    for j in range(k,k-i,-1):\n",
    "        print(j,end=\" \")\n",
    "    print()"
   ]
  },
  {
   "cell_type": "code",
   "execution_count": null,
   "id": "da7b6e7c",
   "metadata": {},
   "outputs": [],
   "source": []
  }
 ],
 "metadata": {
  "kernelspec": {
   "display_name": "Python 3",
   "language": "python",
   "name": "python3"
  },
  "language_info": {
   "codemirror_mode": {
    "name": "ipython",
    "version": 3
   },
   "file_extension": ".py",
   "mimetype": "text/x-python",
   "name": "python",
   "nbconvert_exporter": "python",
   "pygments_lexer": "ipython3",
   "version": "3.8.8"
  }
 },
 "nbformat": 4,
 "nbformat_minor": 5
}
